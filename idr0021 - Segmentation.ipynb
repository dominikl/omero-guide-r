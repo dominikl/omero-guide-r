{
 "cells": [
  {
   "cell_type": "markdown",
   "metadata": {},
   "source": [
    "Load the necessary [romero-gateway](https://github.com/ome/rOMERO-gateway) and [EBImage](http://bioconductor.org/packages/release/bioc/html/EBImage.html)EBImage library:"
   ]
  },
  {
   "cell_type": "code",
   "execution_count": null,
   "metadata": {},
   "outputs": [],
   "source": [
    "options(warn=-1)\n",
    "library(romero.gateway)\n",
    "library(EBImage)"
   ]
  },
  {
   "cell_type": "markdown",
   "metadata": {},
   "source": [
    "## Log into the OMERO server"
   ]
  },
  {
   "cell_type": "code",
   "execution_count": null,
   "metadata": {},
   "outputs": [],
   "source": [
    "#user_name = readline('Username: ')\n",
    "user_name = 'user-18'   # just use user-18 for now\n",
    "user_password <- getPass::getPass('OMERO password: ')\n",
    "server <- OMEROServer(host = 'outreach.openmicroscopy.org', username=user_name, password=user_password, port= as.integer(4064))\n",
    "server <- connect(server)\n",
    "paste('Successfully logged in as', server@user$getUserName())"
   ]
  },
  {
   "cell_type": "markdown",
   "metadata": {},
   "source": [
    "## Load and display an image"
   ]
  },
  {
   "cell_type": "markdown",
   "metadata": {},
   "source": [
    "Load an image from the example dataset 'R-dataset' (these images are part of the original 'CDK5RAP2-C' dataset).\n",
    "I'd recommend the fourth image 'siControl_N20_Cep215_I_20110411_Mon-1509_0_SIR_PRJ.dv' as it nicely shows the toroid."
   ]
  },
  {
   "cell_type": "code",
   "execution_count": null,
   "metadata": {},
   "outputs": [],
   "source": [
    "imageId <- 38255 # An image from R-dataset\n",
    "\n",
    "image <- loadObject(server, \"ImageData\", imageId)"
   ]
  },
  {
   "cell_type": "markdown",
   "metadata": {},
   "source": [
    "Load the pixel values of the second channel (the CDK5RAP2-C channel) and display the image"
   ]
  },
  {
   "cell_type": "code",
   "execution_count": null,
   "metadata": {},
   "outputs": [],
   "source": [
    "pixels <- getPixelValues(image, 1, 1, 2)\n",
    "\n",
    "ebi <- EBImage::Image(data = pixels, colormode = 'Grayscale')\n",
    "ebi <- normalize(ebi)\n",
    "EBImage::display(ebi)"
   ]
  },
  {
   "cell_type": "markdown",
   "metadata": {},
   "source": [
    "## Image segmentation"
   ]
  },
  {
   "cell_type": "markdown",
   "metadata": {},
   "source": [
    "### Visual"
   ]
  },
  {
   "cell_type": "code",
   "execution_count": null,
   "metadata": {
    "scrolled": true
   },
   "outputs": [],
   "source": [
    "threshImg <- thresh(ebi, w=15, h=15, offset=0.1)\n",
    "threshImg <- medianFilter(threshImg, size=3)\n",
    "threshImg <- fillHull(threshImg)          \n",
    "threshImg <- bwlabel(threshImg)\n",
    "EBImage::display(colorLabels(threshImg))"
   ]
  },
  {
   "cell_type": "markdown",
   "metadata": {},
   "source": [
    "**Exercise:** Play around with the parameters of the thresh function to get a feeling for how the parameters affect the segmentation, or even plug in other methods into the segmentation workflow to improve the result, see [EBImage documentation](https://www.rdocumentation.org/packages/EBImage/versions/4.14.2)"
   ]
  },
  {
   "cell_type": "markdown",
   "metadata": {},
   "source": [
    "### Compute the features (measurements)"
   ]
  },
  {
   "cell_type": "code",
   "execution_count": null,
   "metadata": {},
   "outputs": [],
   "source": [
    "shapes = computeFeatures.shape(threshImg)\n",
    "moments = computeFeatures.moment(threshImg)\n",
    "features <- merge(shapes, moments, by=0, all=TRUE)\n",
    "features"
   ]
  },
  {
   "cell_type": "markdown",
   "metadata": {},
   "source": [
    "## Save the results back to OMERO"
   ]
  },
  {
   "cell_type": "markdown",
   "metadata": {},
   "source": [
    "### ROIs"
   ]
  },
  {
   "cell_type": "markdown",
   "metadata": {},
   "source": [
    "We can create an Ellipse for each object taking the x,y coordinates (m.cx and m.cy), the radii (this is the m.majoraxis and calculate the 'minor' axis from 'major' axis and the eccentricity (see documentation of the computeFeatures method)) and the angle theta by which the Ellipse might be rotated."
   ]
  },
  {
   "cell_type": "code",
   "execution_count": null,
   "metadata": {},
   "outputs": [],
   "source": [
    "createROIs <- function(features) {\n",
    "    rois <- data.frame(x = c(0), y = c(0), rx = c(0), ry = c(0), w = c(0), h = c(0), theta = c(0), text = c('remove'), stringsAsFactors = FALSE)\n",
    "    for (index in 1:length(features[,1])) {\n",
    "        x <- features[index,8]\n",
    "        y <- features[index,9]\n",
    "        r1 <- features[index,10]\n",
    "        ecc <- features[index,11]\n",
    "        r2 <- sqrt(r1^2 * (1 - ecc^2))\n",
    "        theta <- features[index,12]\n",
    "        rois <- rbind(rois, c(x, y, r1, r2, NA, NA, -theta, as.character(index)))\n",
    "    }\n",
    "    rois <- rois[-1,]\n",
    "    rownames(rois) <- c()\n",
    "    return(rois)\n",
    "}"
   ]
  },
  {
   "cell_type": "code",
   "execution_count": null,
   "metadata": {},
   "outputs": [],
   "source": [
    "rois <- createROIs(features)\n",
    "rois"
   ]
  },
  {
   "cell_type": "markdown",
   "metadata": {},
   "source": [
    "Save the ROIs back to OMERO"
   ]
  },
  {
   "cell_type": "code",
   "execution_count": null,
   "metadata": {},
   "outputs": [],
   "source": [
    "addROIs(image, coords = rois)"
   ]
  },
  {
   "cell_type": "markdown",
   "metadata": {},
   "source": [
    "**Exercise:** Open the image in OMERO.web and compare the ROIs with the segmented image."
   ]
  },
  {
   "cell_type": "markdown",
   "metadata": {},
   "source": [
    "### Features"
   ]
  },
  {
   "cell_type": "markdown",
   "metadata": {},
   "source": [
    "Attach the whole dataframe to the image:"
   ]
  },
  {
   "cell_type": "code",
   "execution_count": null,
   "metadata": {},
   "outputs": [],
   "source": [
    "invisible(attachDataframe(image, features, \"ROI features\")) # the invisible just suppresses some unneccessary output"
   ]
  },
  {
   "cell_type": "markdown",
   "metadata": {},
   "source": [
    "The dataframe is now attached to the image as HDF table. You can download and open it with software like HDF Compass, load it into python scripts using 'h5py' library, etc. or simply load it directly as R dataframe again."
   ]
  },
  {
   "cell_type": "markdown",
   "metadata": {},
   "source": [
    "Alternatively attach it as CSV file:"
   ]
  },
  {
   "cell_type": "code",
   "execution_count": null,
   "metadata": {},
   "outputs": [],
   "source": [
    "csvFile <- \"/tmp/ROI_features.csv\"\n",
    "write.csv(features, file = csvFile)\n",
    "fileannotation <- attachFile(image, csvFile)"
   ]
  },
  {
   "cell_type": "markdown",
   "metadata": {},
   "source": [
    "**Exercise**: Find the attached CSV file and open it in Excel"
   ]
  },
  {
   "cell_type": "markdown",
   "metadata": {},
   "source": [
    "## Automate"
   ]
  },
  {
   "cell_type": "markdown",
   "metadata": {},
   "source": [
    "Task: Segment each image of a dataset, create an ROI for each of the objects, and summarize the results as dataframe, only taking the features of the largest ROI of an image into account.\n",
    "\n",
    "Note: We need to be able to specify the channel which is analyzed by its name.\n",
    "\n",
    "We put the all the pieces together and wrap them up in a function:"
   ]
  },
  {
   "cell_type": "code",
   "execution_count": null,
   "metadata": {},
   "outputs": [],
   "source": [
    "analyzeImage <- function(image, channelName, df, saveROIs = FALSE) {\n",
    "    # Find the channel index\n",
    "    chnames <- getChannelNames(image)\n",
    "    chindex <- match(channelName, chnames, nomatch = 0)\n",
    "    if (chindex == 0) {\n",
    "      message (paste(\"Could not resolve channel name, skipping \", image@dataobject$getId()))\n",
    "      return(df)\n",
    "    }\n",
    "    \n",
    "    # Load the pixels\n",
    "    pixels <- getPixelValues(image, 1, 1, chindex)\n",
    "    ebi <- EBImage::Image(data = pixels, colormode = 'Grayscale')\n",
    "    ebi <- normalize(ebi)\n",
    "     \n",
    "    # this is our segmentation workflow from above\n",
    "    threshImg <- thresh(ebi, w=15, h=15, offset=0.1)\n",
    "    threshImg <- medianFilter(threshImg, size=3)\n",
    "    threshImg <- fillHull(threshImg)          \n",
    "    threshImg <- bwlabel(threshImg)\n",
    "    \n",
    "    # Calculate the features\n",
    "    shapes = computeFeatures.shape(threshImg)\n",
    "    moments = computeFeatures.moment(threshImg)\n",
    "    features <- merge(shapes, moments, by=0, all=TRUE)\n",
    "    \n",
    "    if (length(features[,1])>1) {\n",
    "        # Add the ROIs to the image\n",
    "        rois <- createROIs(features)\n",
    "        if (saveROIs)\n",
    "            addROIs(image, coords = rois)\n",
    "        \n",
    "        # Add the interesting properties (area, perimeter and diameter )\n",
    "        # of the largest ROI together with channel name, image name, image id \n",
    "        # and roi index to the dataframe\n",
    "        features <- features[order(-features[,2]),]\n",
    "        diameter <- features[1,4]*2\n",
    "        df <- rbind(df, c(channelName, image@dataobject$getName(), image@dataobject$getId(), features[1,1], features[1,2], features[1,3], diameter))\n",
    "    }\n",
    "    return(df)\n",
    "}"
   ]
  },
  {
   "cell_type": "code",
   "execution_count": null,
   "metadata": {},
   "outputs": [],
   "source": [
    "datasetId <- 3045 # Insert the ID of your R-dataset here!\n",
    "\n",
    "channelName <- 'CDK5RAP2-C'\n",
    "\n",
    "dataset <- loadObject(server, \"DatasetData\", datasetId)\n",
    "\n",
    "# Keep the channel name, image name, image id, area, perimeter, and diameter of the largest ROIs\n",
    "result <- data.frame(Channel = c('remove'), ImageName = c('remove'), Image = c(0), ROIIndex = c(0), Area = c(0), Perimeter = c(0), Diameter = c(0), stringsAsFactors = FALSE)\n",
    "\n",
    "images <- getImages(dataset)\n",
    "for (image in images) {\n",
    "    result <- tryCatch({\n",
    "        analyzeImage(image, channelName, result)\n",
    "    }, warning = function(war) {\n",
    "        message(paste(\"WARNING:  \", image@dataobject$getId(),war))\n",
    "        return(result)\n",
    "    }, error = function(err) {\n",
    "        message(paste(\"ERROR:  \", image@dataobject$getId() ,err))\n",
    "        return(result)\n",
    "    }, finally = {\n",
    "    })\n",
    "}\n",
    "\n",
    "result <- result[-1,]\n",
    "rownames(result) <- c()\n",
    "\n",
    "# set the correct datatypes\n",
    "result$Channel <- as.factor(result$Channel)\n",
    "result$Area <- as.numeric(result$Area)\n",
    "result$Perimeter <- as.numeric(result$Perimeter)\n",
    "result$Diameter <- as.numeric(result$Diameter)\n",
    "\n",
    "result"
   ]
  },
  {
   "cell_type": "markdown",
   "metadata": {},
   "source": [
    "**Exercise**: Check the ROIs in OMERO.web"
   ]
  },
  {
   "cell_type": "markdown",
   "metadata": {},
   "source": [
    "**Exercise**: Find out the pixel size in nanometer and change the values for Area, Perimeter and Diameter so that they show the values in nanometer instead of pixels."
   ]
  },
  {
   "cell_type": "code",
   "execution_count": null,
   "metadata": {},
   "outputs": [],
   "source": [
    "# apply the pixel size\n",
    "pxSizeInNM <- 40\n",
    "result$Area <- result$Area * pxSizeInNM * pxSizeInNM\n",
    "result$Perimeter <- result$Perimeter * pxSizeInNM\n",
    "result$Diameter <- result$Diameter * pxSizeInNM\n",
    "\n",
    "result"
   ]
  },
  {
   "cell_type": "markdown",
   "metadata": {},
   "source": [
    "## Analyze"
   ]
  },
  {
   "cell_type": "markdown",
   "metadata": {},
   "source": [
    "### Trainer only - Prepare the table"
   ]
  },
  {
   "cell_type": "markdown",
   "metadata": {},
   "source": [
    "Run the segmentation over the whole project, taking into account that the dataset name == the channel which has to be analyzed.\n",
    "\n",
    "**Do not run this!** Instead we're loading the table which was calculated beforehand."
   ]
  },
  {
   "cell_type": "code",
   "execution_count": null,
   "metadata": {},
   "outputs": [],
   "source": [
    "projectId <- 979\n",
    "\n",
    "project <- loadObject(server, \"ProjectData\", projectId)\n",
    "datasets <- getDatasets(project)\n",
    "\n",
    "result <- data.frame(Channel = c('remove'), ImageName = c('remove'), Image = c(0), ROIIndex = c(0), Area = c(0), Perimeter = c(0), Diameter = c(0), stringsAsFactors = FALSE)\n",
    "\n",
    "count <- 0\n",
    "for (dataset in datasets) {\n",
    "    dsname <- dataset@dataobject$getName()\n",
    "    if (startsWith(dsname, \"CEP120\"))\n",
    "        dsname <- \"CEP120\"\n",
    "    images <- getImages(dataset)\n",
    "    for (image in images) {\n",
    "        result <- tryCatch({\n",
    "            analyzeImage(image, dsname, result, saveROIs = FALSE)\n",
    "        }, warning = function(war) {\n",
    "            message(paste(\"WARNING:  \", image@dataobject$getId(),war))\n",
    "            return(result)\n",
    "        }, error = function(err) {\n",
    "            message(paste(\"ERROR:  \", image@dataobject$getId() ,err))\n",
    "            return(result)\n",
    "        }, finally = {\n",
    "        })\n",
    "        count <- count + 1\n",
    "        message(count)\n",
    "    }\n",
    "}\n",
    "\n",
    "# remove the first row and row names\n",
    "result <- result[-1,]\n",
    "rownames(result) <- c()\n",
    "\n",
    "# set the correct datatypes\n",
    "result$Channel <- as.factor(result$Channel)\n",
    "result$Area <- as.numeric(result$Area)\n",
    "result$Perimeter <- as.numeric(result$Perimeter)\n",
    "result$Diameter <- as.numeric(result$Diameter)\n",
    "result$Image <- as.integer(result$Image)\n",
    "\n",
    "# set the correct pixel size\n",
    "pxSizeInNM <- 40\n",
    "result$Area <- result$Area * pxSizeInNM * pxSizeInNM\n",
    "result$Perimeter <- result$Perimeter * pxSizeInNM\n",
    "result$Diameter <- result$Diameter * pxSizeInNM\n",
    "\n",
    "# Rename the Channel column to Dataset (for parade)\n",
    "colnames(result)[1] <- \"Dataset\"\n",
    "result$Image <- as.integer(result$Image)\n",
    "\n",
    "result"
   ]
  },
  {
   "cell_type": "code",
   "execution_count": null,
   "metadata": {},
   "outputs": [],
   "source": [
    "# attach the dataframe to the project\n",
    "invisible(attachDataframe(project, result, \"Summary from R\"))\n",
    "\n",
    "# Achtung HACK! Change the namespace (for parade)\n",
    "dataframes <- availableDataframes(project)\n",
    "faid <- dataframes$AnnotationID[1]\n",
    "fa <- loadObject(server, \"omero.gateway.model.FileAnnotationData\", as.integer(faid))\n",
    "fa@dataobject$setNameSpace(\"openmicroscopy.org/omero/bulk_annotations\")\n",
    "gateway <- getGateway(server)\n",
    "ctx <- getContext(server)\n",
    "dm <- gateway$getFacility(DataManagerFacility$class)\n",
    "fa <- dm$saveAndReturnObject(ctx, fa@dataobject)"
   ]
  },
  {
   "cell_type": "markdown",
   "metadata": {},
   "source": [
    "### Students - Load the table"
   ]
  },
  {
   "cell_type": "markdown",
   "metadata": {},
   "source": [
    "Instead of running the segmentation over the whole idr0021 project yourself, you'll use the summary table of trainer-1. In OMERO.web got to Lab1 / trainer-1 and find out the ID of the idr0021 project."
   ]
  },
  {
   "cell_type": "code",
   "execution_count": null,
   "metadata": {},
   "outputs": [],
   "source": [
    "projectId <- 979 # This is the ID of trainer-1's idr0021 project  (at the moment that's actually user-18's which\n",
    "                                                                 # was created in previous trainer-only step)\n",
    "project <- loadObject(server, \"ProjectData\", projectId)\n",
    "dataframes <- availableDataframes(project)\n",
    "print(dataframes)"
   ]
  },
  {
   "cell_type": "code",
   "execution_count": null,
   "metadata": {},
   "outputs": [],
   "source": [
    "dfID <- dataframes$ID[1]\n",
    "df <- loadDataframe(project, dfID)\n",
    "df"
   ]
  },
  {
   "cell_type": "code",
   "execution_count": null,
   "metadata": {},
   "outputs": [],
   "source": [
    "ag <-aggregate(result$Diameter ~ result$Dataset, result, median)\n",
    "ordered <- factor(result$Dataset, levels=ag[order(ag$`result$Diameter`), 'result$Dataset'])"
   ]
  },
  {
   "cell_type": "code",
   "execution_count": null,
   "metadata": {},
   "outputs": [],
   "source": [
    "#boxplot(Diameter ~ Dataset, data=result)\n",
    "plot(result$Diameter ~ ordered, ylab='Diameter (nm)', xlab=\"Protein\", cex.axis=0.5)"
   ]
  },
  {
   "cell_type": "code",
   "execution_count": null,
   "metadata": {},
   "outputs": [],
   "source": [
    "disconnect(server)"
   ]
  },
  {
   "cell_type": "code",
   "execution_count": null,
   "metadata": {},
   "outputs": [],
   "source": []
  }
 ],
 "metadata": {
  "kernelspec": {
   "display_name": "OMERO R",
   "language": "R",
   "name": "ir"
  },
  "language_info": {
   "codemirror_mode": "r",
   "file_extension": ".r",
   "mimetype": "text/x-r-source",
   "name": "R",
   "pygments_lexer": "r",
   "version": "3.4.1"
  }
 },
 "nbformat": 4,
 "nbformat_minor": 2
}
