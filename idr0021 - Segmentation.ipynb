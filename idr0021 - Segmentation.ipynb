{
 "cells": [
  {
   "cell_type": "markdown",
   "metadata": {},
   "source": [
    "# Image Segmentation using the idr0021 dataset\n",
    "\n",
    "This notebook uses the idr0021 dataset (original: [idr0021-lawo-pericentriolarmaterial/experimentA](http://idr.openmicroscopy.org/webclient/?show=project-51)) and tries to reproduce some of the analysis published in ['Subdiffraction imaging of centrosomes reveals higher-order organizational features of pericentriolar material'](https://doi.org/10.1038/ncb2591). In particular we're trying to get a figure similar to [Figure 1](https://www.nature.com/articles/ncb2591/figures/1) of the article. \n",
    "\n",
    "Each user has a partial copy of the dataset ('Lab1' / YOUR USER / Project: 'idr0021'). Some of the images are also part of the dataset 'R-dataset' which you can use for practicing the segmentation and annotation steps."
   ]
  },
  {
   "cell_type": "markdown",
   "metadata": {},
   "source": [
    "**Exercise:** Go to https://outreach.openmicroscopy.org , log in as your given user, and find the dataset ('Lab1' / YOUR USER / Project: 'R-dataset'). Leave the window open, as you will use OMERO.web to check the results as we're going along."
   ]
  },
  {
   "cell_type": "markdown",
   "metadata": {},
   "source": [
    "## How to use this notebook"
   ]
  },
  {
   "cell_type": "markdown",
   "metadata": {},
   "source": [
    "The grey blocks with the In\\[ \\] notation to the left are code blocks. Click on a block to select it and click the play button in the toolbar to execute the block of code (alternatively hold SHIFT key and hit RETURN). The notation will change to In\\[*\\] to indicate that this code is currently running. The output is displayed below the block. Wait for it to finish. When the execution is finished it will change to ln\\[1\\] showing that this was the first block of code you ran (ln\\[2\\], ln\\[3\\], ... for the next executed code blocks). \n",
    "\n",
    "As we go through the notebook you're expected to run the code blocks in order (unless explicitely mentioned otherwise).\n",
    "\n",
    "Here's an example:"
   ]
  },
  {
   "cell_type": "code",
   "execution_count": null,
   "metadata": {},
   "outputs": [],
   "source": [
    "message(\"Just wait for a bit...\")\n",
    "Sys.sleep(3)\n",
    "message(\"Done.\")"
   ]
  },
  {
   "cell_type": "markdown",
   "metadata": {},
   "source": [
    "You can change the code and run the block again.\n",
    "\n",
    "**Exercise:** Change the message which is printed and run it again."
   ]
  },
  {
   "cell_type": "markdown",
   "metadata": {},
   "source": [
    "## Let's get started..."
   ]
  },
  {
   "cell_type": "markdown",
   "metadata": {},
   "source": [
    "Load the necessary [romero-gateway](https://github.com/ome/rOMERO-gateway) and [EBImage](https://bioconductor.org/packages/release/bioc/html/EBImage.html) library. We're currently using romero-gateway 0.4.3, EBImage 4.13.0 with R 3.4.1 . "
   ]
  },
  {
   "cell_type": "code",
   "execution_count": null,
   "metadata": {},
   "outputs": [],
   "source": [
    "library(romero.gateway)\n",
    "library(EBImage, warn.conflicts = FALSE)"
   ]
  },
  {
   "cell_type": "markdown",
   "metadata": {},
   "source": [
    "## Log into the OMERO server"
   ]
  },
  {
   "cell_type": "code",
   "execution_count": null,
   "metadata": {},
   "outputs": [],
   "source": [
    "user_name = readline('Username: ')\n",
    "user_password <- getPass::getPass('OMERO password: ')\n",
    "server <- OMEROServer(host = 'outreach.openmicroscopy.org', username=user_name, password=user_password, port= as.integer(4064))\n",
    "server <- connect(server)\n",
    "paste('Successfully logged in as', server@user$getUserName())"
   ]
  },
  {
   "cell_type": "markdown",
   "metadata": {},
   "source": [
    "## Load and display an image"
   ]
  },
  {
   "cell_type": "markdown",
   "metadata": {},
   "source": [
    "Load an image from the example dataset 'R-dataset' (these images are part of the original 'CDK5RAP2-C' dataset).\n",
    "\n",
    "**Exercise:** Go to the image 'siControl_N20_Cep215_I_20110411_Mon-1509_0_SIR_PRJ.dv' in your 'R-dataset', find the 'Image ID' and copy/paste it below. You can use a different image of the dataset if you like, but I recommend that one because it nicely shows the toroid centrioles."
   ]
  },
  {
   "cell_type": "code",
   "execution_count": null,
   "metadata": {},
   "outputs": [],
   "source": [
    "imageId <- REPLACE_WITH_IMAGE_ID # An image from R-dataset\n",
    "image <- loadObject(server, \"ImageData\", imageId)"
   ]
  },
  {
   "cell_type": "markdown",
   "metadata": {},
   "source": [
    "Load the pixel values of the second channel (the CDK5RAP2-C channel) and display the image"
   ]
  },
  {
   "cell_type": "code",
   "execution_count": null,
   "metadata": {},
   "outputs": [],
   "source": [
    "pixels <- getPixelValues(image, 1, 1, 2) # Second channel of the first z plane of the first time point\n",
    "                                         # (the images only have one z/t plane anyway)\n",
    "ebi <- EBImage::Image(data = pixels, colormode = 'Grayscale')\n",
    "ebi <- normalize(ebi)\n",
    "EBImage::display(ebi)"
   ]
  },
  {
   "cell_type": "markdown",
   "metadata": {},
   "source": [
    "## Image segmentation"
   ]
  },
  {
   "cell_type": "markdown",
   "metadata": {},
   "source": [
    "### Visual"
   ]
  },
  {
   "cell_type": "code",
   "execution_count": null,
   "metadata": {
    "scrolled": true
   },
   "outputs": [],
   "source": [
    "threshImg <- thresh(ebi, w=15, h=15, offset=0.1)\n",
    "threshImg <- medianFilter(threshImg, size=3)\n",
    "threshImg <- fillHull(threshImg)          \n",
    "threshImg <- bwlabel(threshImg)\n",
    "EBImage::display(colorLabels(threshImg))"
   ]
  },
  {
   "cell_type": "markdown",
   "metadata": {},
   "source": [
    "**Exercise:** Modify the parameters of the thresh function to get a feeling for how the parameters affect the segmentation, or even plug in other methods into the segmentation workflow to improve the result, see [EBImage documentation](https://www.rdocumentation.org/packages/EBImage/versions/4.14.2)"
   ]
  },
  {
   "cell_type": "markdown",
   "metadata": {},
   "source": [
    "### Compute the features (measurements)"
   ]
  },
  {
   "cell_type": "code",
   "execution_count": null,
   "metadata": {},
   "outputs": [],
   "source": [
    "shapes = computeFeatures.shape(threshImg)\n",
    "moments = computeFeatures.moment(threshImg)\n",
    "features <- merge(shapes, moments, by=0, all=TRUE)\n",
    "features"
   ]
  },
  {
   "cell_type": "markdown",
   "metadata": {},
   "source": [
    "## Save the results back to OMERO"
   ]
  },
  {
   "cell_type": "markdown",
   "metadata": {},
   "source": [
    "### Create ROIs"
   ]
  },
  {
   "cell_type": "markdown",
   "metadata": {},
   "source": [
    "We can create an Ellipse for each object taking the x,y coordinates (m.cx and m.cy), the radii (this is the m.majoraxis and calculate the 'minor' axis from 'major' axis and the eccentricity (see [documentation](https://www.rdocumentation.org/packages/EBImage/versions/4.14.2/topics/computeFeatures) of the computeFeatures method)) and the angle theta by which the Ellipse might be rotated.\n",
    "\n",
    "In order to be able to re-use this code later, we define a function for it:"
   ]
  },
  {
   "cell_type": "code",
   "execution_count": null,
   "metadata": {},
   "outputs": [],
   "source": [
    "#' Create ROIs from a features table\n",
    "#'\n",
    "#' @param features The shape and moments generated by EBImage computeFeatures\n",
    "#' @return A dataframe specifying the x, y, rx, ry, w, h, theta and text parameters of the ROIs\n",
    "createROIs <- function(features) {\n",
    "    rois <- data.frame(x = c(0), y = c(0), rx = c(0), ry = c(0), w = c(0), h = c(0), theta = c(0), text = c('remove'), stringsAsFactors = FALSE)\n",
    "    for (index in 1:length(features[,1])) {\n",
    "        x <- features[index,8]\n",
    "        y <- features[index,9]\n",
    "        r1 <- features[index,10]\n",
    "        ecc <- features[index,11]\n",
    "        r2 <- sqrt(r1^2 * (1 - ecc^2))\n",
    "        theta <- features[index,12]\n",
    "        rois <- rbind(rois, c(x, y, r1, r2, NA, NA, -theta, as.character(index)))\n",
    "    }\n",
    "    rois <- rois[-1,]\n",
    "    rownames(rois) <- c()\n",
    "    return(rois)\n",
    "}"
   ]
  },
  {
   "cell_type": "code",
   "execution_count": null,
   "metadata": {},
   "outputs": [],
   "source": [
    "rois <- createROIs(features)\n",
    "rois"
   ]
  },
  {
   "cell_type": "markdown",
   "metadata": {},
   "source": [
    "Save the ROIs back to OMERO"
   ]
  },
  {
   "cell_type": "code",
   "execution_count": null,
   "metadata": {},
   "outputs": [],
   "source": [
    "addROIs(image, coords = rois)"
   ]
  },
  {
   "cell_type": "markdown",
   "metadata": {},
   "source": [
    "**Exercise:** Open the image in OMERO.web and compare the ROIs with the segmented image."
   ]
  },
  {
   "cell_type": "markdown",
   "metadata": {},
   "source": [
    "### Store the features table"
   ]
  },
  {
   "cell_type": "markdown",
   "metadata": {},
   "source": [
    "Attach the whole dataframe to the image:"
   ]
  },
  {
   "cell_type": "code",
   "execution_count": null,
   "metadata": {},
   "outputs": [],
   "source": [
    "invisible(attachDataframe(image, features, \"ROI features\")) # the invisible just suppresses some unneccessary output"
   ]
  },
  {
   "cell_type": "markdown",
   "metadata": {},
   "source": [
    "The dataframe is now attached to the image as an [HDF](https://en.wikipedia.org/wiki/Hierarchical_Data_Format) table. You can download and open it with software like HDF Compass, load it into python scripts using 'h5py' library, etc. or simply load it directly as R dataframe again."
   ]
  },
  {
   "cell_type": "markdown",
   "metadata": {},
   "source": [
    "Alternatively attach it as CSV file:"
   ]
  },
  {
   "cell_type": "code",
   "execution_count": null,
   "metadata": {},
   "outputs": [],
   "source": [
    "csvFile <- \"/tmp/ROI_features.csv\"\n",
    "write.csv(features, file = csvFile)\n",
    "fileannotation <- attachFile(image, csvFile)"
   ]
  },
  {
   "cell_type": "markdown",
   "metadata": {},
   "source": [
    "**Exercise:** Find the attached CSV file and open it in Excel"
   ]
  },
  {
   "cell_type": "markdown",
   "metadata": {},
   "source": [
    "## Automate"
   ]
  },
  {
   "cell_type": "markdown",
   "metadata": {},
   "source": [
    "Task: Segment each image of a dataset, create an ROI for each of the objects, and summarize the results as dataframe, only taking the features of the largest ROI of an image into account.\n",
    "\n",
    "Note: We need to be able to specify the channel which is analyzed by its name.\n",
    "\n",
    "We put the all the pieces together and wrap them up in a function:"
   ]
  },
  {
   "cell_type": "code",
   "execution_count": null,
   "metadata": {},
   "outputs": [],
   "source": [
    "#' Performs an image segmentation to find the largest ROI of the image\n",
    "#' and returns some features of interest (area, perimeter and diameter).\n",
    "#'\n",
    "#' @param image The image to segement\n",
    "#' @param channelName The channel to be taken into account\n",
    "#' @param df The dataframe to add the features to (channelName, imageName, ImageID, ROIINdex, area, perimeter, diameter)\n",
    "#' @param saveROIs Flag if ROIs should be created and attached to the image (default: FALSE)\n",
    "#' @return The dataframe with the features\n",
    "analyzeImage <- function(image, channelName, df, saveROIs = FALSE) {\n",
    "    # Find the channel index\n",
    "    chnames <- getChannelNames(image)\n",
    "    chindex <- match(channelName, chnames, nomatch = 0)\n",
    "    if (chindex == 0) {\n",
    "      message (paste(\"Could not resolve channel name, skipping \", image@dataobject$getId()))\n",
    "      return(df)\n",
    "    }\n",
    "    \n",
    "    # Load the pixels\n",
    "    pixels <- getPixelValues(image, 1, 1, chindex)\n",
    "    ebi <- EBImage::Image(data = pixels, colormode = 'Grayscale')\n",
    "    ebi <- normalize(ebi)\n",
    "     \n",
    "    # this is our segmentation workflow from above\n",
    "    threshImg <- thresh(ebi, w=15, h=15, offset=0.1)\n",
    "    threshImg <- medianFilter(threshImg, size=3)\n",
    "    threshImg <- fillHull(threshImg)          \n",
    "    threshImg <- bwlabel(threshImg)\n",
    "    \n",
    "    # Calculate the features\n",
    "    shapes = suppressMessages(computeFeatures.shape(threshImg))\n",
    "    moments = suppressMessages(computeFeatures.moment(threshImg))\n",
    "    features <- merge(shapes, moments, by=0, all=TRUE)\n",
    "    \n",
    "    if (length(features[,1])>1) {\n",
    "        # Add the ROIs to the image\n",
    "        rois <- createROIs(features)\n",
    "        if (saveROIs)\n",
    "            addROIs(image, coords = rois)\n",
    "        \n",
    "        # Add the interesting properties (area, perimeter and diameter)\n",
    "        # of the largest ROI together with channel name, image name, image id \n",
    "        # and roi index to the dataframe\n",
    "        features <- features[order(-features[,2]),]\n",
    "        diameter <- features[1,4]*2\n",
    "        df <- rbind(df, c(channelName, image@dataobject$getName(), image@dataobject$getId(), features[1,1], features[1,2], features[1,3], diameter))\n",
    "    }\n",
    "    return(df)\n",
    "}"
   ]
  },
  {
   "cell_type": "code",
   "execution_count": null,
   "metadata": {},
   "outputs": [],
   "source": [
    "datasetId <- REPLACE_WITH_DATASET_ID # Insert the ID of your R-dataset here!\n",
    "\n",
    "channelName <- 'CDK5RAP2-C'\n",
    "\n",
    "dataset <- loadObject(server, \"DatasetData\", datasetId)\n",
    "\n",
    "# Keep the channel name, image name, image id, area, perimeter, and diameter of the largest ROIs\n",
    "result <- data.frame(Channel = c('remove'), ImageName = c('remove'), Image = c(0), ROIIndex = c(0), Area = c(0), Perimeter = c(0), Diameter = c(0), stringsAsFactors = FALSE)\n",
    "\n",
    "images <- getImages(dataset)\n",
    "for (image in images) {\n",
    "    result <- tryCatch({\n",
    "        analyzeImage(image, channelName, result, saveROIs = TRUE)\n",
    "    }, warning = function(war) {\n",
    "        message(paste(\"WARNING:  \", image@dataobject$getId(),war))\n",
    "        return(result)\n",
    "    }, error = function(err) {\n",
    "        message(paste(\"ERROR:  \", image@dataobject$getId() ,err))\n",
    "        return(result)\n",
    "    }, finally = {\n",
    "    })\n",
    "}\n",
    "\n",
    "result <- result[-1,]\n",
    "rownames(result) <- c()\n",
    "\n",
    "# set the correct datatypes\n",
    "result$Channel <- as.factor(result$Channel)\n",
    "result$Area <- as.numeric(result$Area)\n",
    "result$Perimeter <- as.numeric(result$Perimeter)\n",
    "result$Diameter <- as.numeric(result$Diameter)\n",
    "\n",
    "result"
   ]
  },
  {
   "cell_type": "markdown",
   "metadata": {},
   "source": [
    "**Exercise:** Check the ROIs in OMERO.web"
   ]
  },
  {
   "cell_type": "markdown",
   "metadata": {},
   "source": [
    "**Exercise:** The measurements (Area, Perimeter and Diameter) are currently showing pixels. Find out the pixel size in nanometer and apply it accordingly."
   ]
  },
  {
   "cell_type": "markdown",
   "metadata": {},
   "source": [
    "## Analyze"
   ]
  },
  {
   "cell_type": "markdown",
   "metadata": {},
   "source": [
    "### Run segmentation over the whole project"
   ]
  },
  {
   "cell_type": "markdown",
   "metadata": {},
   "source": [
    "**Do not run this, FYI only!**\n",
    "\n",
    "The next code block does the same what we did before but across the whole idr0021 project (taking into account that the channel name which has to be analyzed is equal to the dataset name). This can take a while, therefore we skip this step and load the results from the attached dataframe, see next step."
   ]
  },
  {
   "cell_type": "code",
   "execution_count": null,
   "metadata": {},
   "outputs": [],
   "source": [
    "projectId <- ---\n",
    "\n",
    "project <- loadObject(server, \"ProjectData\", projectId)\n",
    "datasets <- getDatasets(project)\n",
    "\n",
    "result <- data.frame(Channel = c('remove'), ImageName = c('remove'), Image = c(0), ROIIndex = c(0), Area = c(0), Perimeter = c(0), Diameter = c(0), stringsAsFactors = FALSE)\n",
    "\n",
    "for (dataset in datasets) {\n",
    "    dsname <- dataset@dataobject$getName()\n",
    "    if (startsWith(dsname, \"CEP120\")) # CEP120 data is represented by two datasets (both start with CEP120)\n",
    "        dsname <- \"CEP120\"\n",
    "    images <- getImages(dataset)\n",
    "    for (image in images) {\n",
    "        result <- tryCatch({\n",
    "            analyzeImage(image, dsname, result, saveROIs = TRUE)\n",
    "        }, warning = function(war) {\n",
    "            message(paste(\"WARNING:  \", image@dataobject$getId(),war))\n",
    "            return(result)\n",
    "        }, error = function(err) {\n",
    "            message(paste(\"ERROR:  \", image@dataobject$getId() ,err))\n",
    "            return(result)\n",
    "        }, finally = {\n",
    "        })\n",
    "    }\n",
    "}\n",
    "\n",
    "# remove the first row and row names\n",
    "result <- result[-1,]\n",
    "rownames(result) <- c()\n",
    "\n",
    "# set the correct datatypes\n",
    "result$Channel <- as.factor(result$Channel)\n",
    "result$Area <- as.numeric(result$Area)\n",
    "result$Perimeter <- as.numeric(result$Perimeter)\n",
    "result$Diameter <- as.numeric(result$Diameter)\n",
    "result$Image <- as.integer(result$Image)\n",
    "\n",
    "# set the correct pixel size\n",
    "pxSizeInNM <- 40\n",
    "result$Area <- result$Area * pxSizeInNM * pxSizeInNM\n",
    "result$Perimeter <- result$Perimeter * pxSizeInNM\n",
    "result$Diameter <- result$Diameter * pxSizeInNM\n",
    "\n",
    "# Rename the Channel column to Dataset (for parade)\n",
    "colnames(result)[1] <- \"Dataset\"\n",
    "result$Image <- as.integer(result$Image)\n",
    "\n",
    "# attach the dataframe to the project\n",
    "invisible(attachDataframe(project, result, \"Summary from R\"))\n",
    "\n",
    "# Change the namespace (for parade) (workaround as this is not yet\n",
    "# implemented in the R gateway itself)\n",
    "dataframes <- availableDataframes(project)\n",
    "faid <- dataframes$AnnotationID[1]\n",
    "fa <- loadObject(server, \"omero.gateway.model.FileAnnotationData\", as.integer(faid))\n",
    "fa@dataobject$setNameSpace(\"openmicroscopy.org/omero/bulk_annotations\")\n",
    "gateway <- getGateway(server)\n",
    "ctx <- getContext(server)\n",
    "dm <- gateway$getFacility(DataManagerFacility$class)\n",
    "fa <- dm$saveAndReturnObject(ctx, fa@dataobject)"
   ]
  },
  {
   "cell_type": "markdown",
   "metadata": {},
   "source": [
    "### Load the segmentation results"
   ]
  },
  {
   "cell_type": "markdown",
   "metadata": {},
   "source": [
    "Instead of running the segmentation over the whole idr0021 project yourself, you'll use the summary table of trainer-1.\n",
    "\n",
    "**Exercise:** In OMERO.web got to Lab1 / trainer-1 and find out the ID of the idr0021 project."
   ]
  },
  {
   "cell_type": "code",
   "execution_count": null,
   "metadata": {},
   "outputs": [],
   "source": [
    "projectId <- REPLACE_WITH_PROJEcT_ID # This is the ID of trainer-1's idr0021 project\n",
    "project <- loadObject(server, \"ProjectData\", projectId)\n",
    "dataframes <- availableDataframes(project)\n",
    "print(dataframes)"
   ]
  },
  {
   "cell_type": "code",
   "execution_count": null,
   "metadata": {},
   "outputs": [],
   "source": [
    "# Load the dataframe\n",
    "dfID <- dataframes$ID[1]\n",
    "centrioles <- loadDataframe(project, dfID)\n",
    "\n",
    "# Make sure the data types are correct\n",
    "centrioles$Dataset <- as.factor(centrioles$Dataset)\n",
    "centrioles$Diameter <- as.numeric(centrioles$Diameter)\n",
    "centrioles"
   ]
  },
  {
   "cell_type": "markdown",
   "metadata": {},
   "source": [
    "### Plot the data"
   ]
  },
  {
   "cell_type": "code",
   "execution_count": null,
   "metadata": {},
   "outputs": [],
   "source": [
    "ag <-aggregate(centrioles$Diameter ~ centrioles$Dataset, centrioles, median)\n",
    "ordered <- factor(centrioles$Dataset, levels=ag[order(ag$`centrioles$Diameter`), 'centrioles$Dataset'])"
   ]
  },
  {
   "cell_type": "code",
   "execution_count": null,
   "metadata": {},
   "outputs": [],
   "source": [
    "plot(centrioles$Diameter ~ ordered, ylab='Diameter (nm)', xlab=\"Protein\", cex.axis=0.5)"
   ]
  },
  {
   "cell_type": "markdown",
   "metadata": {},
   "source": [
    "**Exercise:** Find the outlier in OMERO.web (using 'parade') and check what might have gone wrong there."
   ]
  },
  {
   "cell_type": "markdown",
   "metadata": {},
   "source": [
    "### Compute some statistics"
   ]
  },
  {
   "cell_type": "code",
   "execution_count": null,
   "metadata": {},
   "outputs": [],
   "source": [
    "# One-way analysis of variance:\n",
    "fit <- aov(centrioles$Diameter ~ centrioles$Dataset)\n",
    "summary(fit)"
   ]
  },
  {
   "cell_type": "code",
   "execution_count": null,
   "metadata": {},
   "outputs": [],
   "source": [
    "# Two-sample Wilcoxon test ('Mann-Whitney') of all pairwise combinations:\n",
    "combins <- combn(levels(centrioles$Dataset), 2)\n",
    "params_list <- split(as.vector(combins), rep(1:ncol(combins), each = nrow(combins)))\n",
    "testResults <- data.frame()\n",
    "for (param in params_list) {\n",
    "  testdf <- subset(centrioles, centrioles$Dataset %in% param)\n",
    "  pval <- wilcox.test(formula = Diameter ~ Dataset, data = testdf)$p.value\n",
    "  testResults <- rbind(testResults, data.frame(Protein_1=param[1], Protein_2=param[2], p_value=pval))\n",
    "}\n",
    "testResults"
   ]
  },
  {
   "cell_type": "code",
   "execution_count": null,
   "metadata": {},
   "outputs": [],
   "source": [
    "disconnect(server)"
   ]
  }
 ],
 "metadata": {
  "kernelspec": {
   "display_name": "OMERO R",
   "language": "R",
   "name": "ir"
  },
  "language_info": {
   "codemirror_mode": "r",
   "file_extension": ".r",
   "mimetype": "text/x-r-source",
   "name": "R",
   "pygments_lexer": "r",
   "version": "3.4.1"
  }
 },
 "nbformat": 4,
 "nbformat_minor": 2
}
