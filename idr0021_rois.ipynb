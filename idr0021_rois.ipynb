{
 "cells": [
  {
   "cell_type": "markdown",
   "metadata": {},
   "source": [
    "# IDR0021 - ROIs"
   ]
  },
  {
   "cell_type": "markdown",
   "metadata": {},
   "source": [
    "## Load the romero.gateway library and connect to the server"
   ]
  },
  {
   "cell_type": "code",
   "execution_count": null,
   "metadata": {},
   "outputs": [],
   "source": [
    "library(romero.gateway)\n",
    "\n",
    "server <- OMEROServer(host = 'outreach.openmicroscopy.org', port = 4064L, username = 'username', password = 'password')\n",
    "server <- connect(server)"
   ]
  },
  {
   "cell_type": "markdown",
   "metadata": {},
   "source": [
    "## Load the project and get the id of the file annotation"
   ]
  },
  {
   "cell_type": "code",
   "execution_count": null,
   "metadata": {},
   "outputs": [],
   "source": [
    "projectName <- 'idr0021'\n",
    "tableName <- 'batch_roi_export'\n",
    "\n",
    "searchResult <- searchFor(server, Project, 'Name', projectName)\n",
    "project <- searchResult[[1]]\n",
    "paste('Project:', project@dataobject$getName(), 'loaded')\n",
    "\n",
    "annos <- getAnnotations(server, 'ProjectData', getOMEROID(project), nameFilter = tableName)\n",
    "annotationFileID = as.integer(annos$FileID)\n",
    "paste('Annotion file id:', annotationFileID)"
   ]
  },
  {
   "cell_type": "markdown",
   "metadata": {},
   "source": [
    "## Check if we can load the file as R dataframe"
   ]
  },
  {
   "cell_type": "code",
   "execution_count": null,
   "metadata": {},
   "outputs": [],
   "source": [
    "describeDataframe(project, annotationFileID)"
   ]
  },
  {
   "cell_type": "markdown",
   "metadata": {},
   "source": [
    "## Load the relevant data (Image and max_points)"
   ]
  },
  {
   "cell_type": "code",
   "execution_count": null,
   "metadata": {},
   "outputs": [],
   "source": [
    "df <- loadDataframe(project, annotationFileID, columns=c(1, 8))"
   ]
  },
  {
   "cell_type": "markdown",
   "metadata": {},
   "source": [
    "## Prepare the data"
   ]
  },
  {
   "cell_type": "markdown",
   "metadata": {},
   "source": [
    "### Remove the 'omero.gateway...' from the Image field to get the image id"
   ]
  },
  {
   "cell_type": "code",
   "execution_count": null,
   "metadata": {},
   "outputs": [],
   "source": [
    "df$Image <- gsub(\"omero\\\\.gateway\\\\.model\\\\.ImageData \\\\(id=\", \"\", df$Image)\n",
    "df$Image <- gsub(\"\\\\)\", \"\", df$Image)"
   ]
  },
  {
   "cell_type": "markdown",
   "metadata": {},
   "source": [
    "### Estimate the toroid/ring diameter from the max_points (~ area)"
   ]
  },
  {
   "cell_type": "code",
   "execution_count": null,
   "metadata": {},
   "outputs": [],
   "source": [
    "df$diameter <- 2 * sqrt(df$max_points / pi)"
   ]
  },
  {
   "cell_type": "markdown",
   "metadata": {},
   "source": [
    "### Iterate through the datasets to get the image <-> gene (dataset name) relation and add it to the dataframe"
   ]
  },
  {
   "cell_type": "code",
   "execution_count": null,
   "metadata": {},
   "outputs": [],
   "source": [
    "datasetImageMap <- data.frame()\n",
    "datasets <- getDatasets(project)\n",
    "for (dataset in datasets) {\n",
    "  images <- getImages(dataset)\n",
    "  name <- as.character(dataset@dataobject$getName())\n",
    "  for(image in images) {\n",
    "    id <- getOMEROID(image)\n",
    "    datasetImageMap<-rbind(datasetImageMap, data.frame(Dataset=name, Image=id))\n",
    "  }\n",
    "}\n",
    "df <- merge(df, datasetImageMap)"
   ]
  },
  {
   "cell_type": "markdown",
   "metadata": {},
   "source": [
    "### Combine the datasets 'CEP120/20111106', 'CEP120/20111209' to 'CEP120 (see paper)"
   ]
  },
  {
   "cell_type": "code",
   "execution_count": null,
   "metadata": {},
   "outputs": [],
   "source": [
    "df$Dataset <- as.character(df$Dataset)\n",
    "df[ df == 'CEP120/20111106' ] <- 'CEP120'\n",
    "df[ df == 'CEP120/20111209' ] <- 'CEP120'\n",
    "df$Dataset <- as.factor(df$Dataset)"
   ]
  },
  {
   "cell_type": "markdown",
   "metadata": {},
   "source": [
    "The dataframe looks like this now:"
   ]
  },
  {
   "cell_type": "code",
   "execution_count": null,
   "metadata": {},
   "outputs": [],
   "source": [
    "df"
   ]
  },
  {
   "cell_type": "markdown",
   "metadata": {},
   "source": [
    "## Plot"
   ]
  },
  {
   "cell_type": "markdown",
   "metadata": {},
   "source": [
    "### Order the data from lowest to highest mean diameter"
   ]
  },
  {
   "cell_type": "code",
   "execution_count": null,
   "metadata": {},
   "outputs": [],
   "source": [
    "ag <-aggregate(df$diameter ~ df$Dataset, df, mean)\n",
    "orderedDatasets <- factor(df$Dataset, levels=ag[order(ag$`df$diameter`), 'df$Dataset'])"
   ]
  },
  {
   "cell_type": "markdown",
   "metadata": {},
   "source": [
    "### Create the plot"
   ]
  },
  {
   "cell_type": "code",
   "execution_count": null,
   "metadata": {},
   "outputs": [],
   "source": [
    "plot(df$diameter ~ orderedDatasets, ylab='Estimated toroid/ring diameter', xlab=\"Gene\", cex.axis=0.5)"
   ]
  },
  {
   "cell_type": "markdown",
   "metadata": {},
   "source": [
    "## Is there a significant difference between the genes? Perform a one-way analysis of variance:"
   ]
  },
  {
   "cell_type": "code",
   "execution_count": null,
   "metadata": {},
   "outputs": [],
   "source": [
    "fit <- aov(df$diameter ~ df$Dataset)\n",
    "summary(fit)"
   ]
  },
  {
   "cell_type": "markdown",
   "metadata": {},
   "source": [
    "There is!"
   ]
  },
  {
   "cell_type": "markdown",
   "metadata": {},
   "source": [
    "## Finally attach the plot to the OMERO project"
   ]
  },
  {
   "cell_type": "code",
   "execution_count": null,
   "metadata": {},
   "outputs": [],
   "source": [
    "tmpfile <- \"/tmp/Toroid_diameter_By_Gene.png\"\n",
    "png(tmpfile, width = 4, height= 2.5, units = \"in\", res = 300, pointsize = 6)\n",
    "plot(df$diameter ~ orderedDatasets, ylab='Estimated toroid/ring diameter', xlab=\"Gene\", cex.axis=0.5)\n",
    "dev.off()\n",
    "invisible(attachFile(project, tmpfile)) # Wrapped in invisible(...) only to suppress unnecessary output"
   ]
  },
  {
   "cell_type": "markdown",
   "metadata": {},
   "source": [
    "## Disconnect from the server again"
   ]
  },
  {
   "cell_type": "code",
   "execution_count": null,
   "metadata": {},
   "outputs": [],
   "source": [
    "invisible(disconnect(server))"
   ]
  },
  {
   "cell_type": "code",
   "execution_count": null,
   "metadata": {},
   "outputs": [],
   "source": []
  }
 ],
 "metadata": {
  "kernelspec": {
   "display_name": "R",
   "language": "R",
   "name": "ir"
  },
  "language_info": {
   "codemirror_mode": "r",
   "file_extension": ".r",
   "mimetype": "text/x-r-source",
   "name": "R",
   "pygments_lexer": "r",
   "version": "3.4.4"
  }
 },
 "nbformat": 4,
 "nbformat_minor": 2
}
